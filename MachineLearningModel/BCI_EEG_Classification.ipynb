{
 "cells": [
  {
   "cell_type": "markdown",
   "id": "88e3d8a4",
   "metadata": {
    "id": "88e3d8a4"
   },
   "source": [
    "# EEG DataLoader"
   ]
  },
  {
   "cell_type": "markdown",
   "id": "78e016ab",
   "metadata": {
    "id": "78e016ab"
   },
   "source": [
    "The dimensions of the training set are as follows: 4,500 samples, 64 channels, and a time length of 795. This corresponds to 5 categories in y_train.\n",
    "\n",
    "The dimensions of the testing set are as follows: 750 samples, 64 channels, and a time length of 795. This corresponds to 5 categories in y_test.\n",
    "\n",
    "You can download it from this Google Drive link: [https://drive.google.com/drive/folders/1ykR-mn4d4KfFeeNrfR6UdtebsNRY8PU2?usp=sharing].\n",
    "Please download the data and place it in your data_path at \"./data.\""
   ]
  },
  {
   "cell_type": "code",
   "execution_count": 1,
   "id": "b284602d",
   "metadata": {
    "id": "b284602d"
   },
   "outputs": [],
   "source": [
    "import numpy as np\n",
    "import torch\n",
    "import torch.nn as nn\n",
    "import torch.optim as optim\n",
    "import pandas as pd\n",
    "import csv\n",
    "from torch.utils.data import DataLoader, TensorDataset"
   ]
  },
  {
   "cell_type": "code",
   "execution_count": 2,
   "id": "fef2ddad",
   "metadata": {
    "id": "fef2ddad",
    "scrolled": false
   },
   "outputs": [],
   "source": [
    "data_path = 'data/'"
   ]
  },
  {
   "cell_type": "code",
   "execution_count": 3,
   "id": "fbb56c77",
   "metadata": {
    "id": "fbb56c77"
   },
   "outputs": [],
   "source": [
    "train_data = np.load(data_path + 'train_data.npy')\n",
    "test_data = np.load(data_path + 'test_data.npy')\n",
    "train_label = np.load(data_path + 'train_label.npy')\n",
    "test_label = np.load(data_path + 'test_label.npy')\n",
    "\n",
    "#To convert the data into PyTorch tensors\n",
    "x_train_tensor = torch.Tensor(train_data)\n",
    "y_train_tensor = torch.LongTensor(train_label)\n",
    "x_test_tensor = torch.Tensor(test_data)\n",
    "y_test_tensor = torch.LongTensor(test_label)"
   ]
  },
  {
   "cell_type": "code",
   "execution_count": 4,
   "id": "f13109bc",
   "metadata": {
    "id": "f13109bc"
   },
   "outputs": [],
   "source": [
    "device = torch.device(\"cuda\" if torch.cuda.is_available() else \"cpu\") #Setting GPU on your computer"
   ]
  },
  {
   "cell_type": "code",
   "execution_count": 5,
   "id": "38430b1f",
   "metadata": {
    "id": "38430b1f"
   },
   "outputs": [],
   "source": [
    "train_dataset = TensorDataset(x_train_tensor.to(device), y_train_tensor.to(device)) # input data to Tensor dataloader\n",
    "train_loader = DataLoader(train_dataset, batch_size=64, drop_last=True, shuffle=True) #  Batch size refers to the number of data sample\n",
    "test_dataset = TensorDataset(x_test_tensor.to(device), y_test_tensor.to(device))\n",
    "test_loader = DataLoader(test_dataset, batch_size=64,  drop_last=True,shuffle=False)"
   ]
  },
  {
   "cell_type": "markdown",
   "id": "a6352a90",
   "metadata": {},
   "source": [
    "# Show Data"
   ]
  },
  {
   "cell_type": "code",
   "execution_count": null,
   "id": "8fb7c4c0",
   "metadata": {},
   "outputs": [],
   "source": []
  },
  {
   "cell_type": "markdown",
   "id": "a304b4d6",
   "metadata": {
    "id": "a304b4d6"
   },
   "source": [
    "# Build simple Deep learning model"
   ]
  },
  {
   "cell_type": "code",
   "execution_count": 6,
   "id": "2f9468f8",
   "metadata": {
    "id": "2f9468f8"
   },
   "outputs": [],
   "source": [
    "class EEGAutoencoderClassifier(nn.Module):\n",
    "    def __init__(self, num_classes):\n",
    "        super(EEGAutoencoderClassifier, self).__init__()\n",
    "        self.encoder = nn.Sequential(\n",
    "            nn.Linear(64 * 795, 512), # Input dimention is 64 channel * 795 time point, and use 256 units for first NN layer\n",
    "            nn.ReLU(), # Use ReLu function for NN training\n",
    "            nn.Linear(512, 256), # 256 NN units to 128 units\n",
    "            nn.ReLU(),\n",
    "            nn.Linear(256, 128),#  128 NN units to 64 units\n",
    "            nn.ReLU(),\n",
    "            nn.Linear(128, 64),\n",
    "            nn.ReLU(),\n",
    "            nn.Linear(64,32),\n",
    "            nn.ReLU()\n",
    "        )\n",
    "        self.classifier = nn.Sequential(\n",
    "            nn.Linear(32, num_classes), # num_classes is 5 (hello,” “help me,” “stop,” “thank you,” and “yes”)\n",
    "            nn.LogSoftmax(dim=1)  # Use LogSoftmax for multi-class classification\n",
    "        )\n",
    "\n",
    "    def forward(self, x):\n",
    "        x = x.view(x.size(0), -1)\n",
    "        x = self.encoder(x)\n",
    "\n",
    "        # import pdb;pdb.set_trace()\n",
    "        x = self.classifier(x)\n",
    "        return x"
   ]
  },
  {
   "cell_type": "code",
   "execution_count": 7,
   "id": "2369fa9c",
   "metadata": {
    "id": "2369fa9c"
   },
   "outputs": [],
   "source": [
    "num_classes = 5 # setting final output class\n",
    "model = EEGAutoencoderClassifier(num_classes).to(device)\n",
    "criterion = nn.NLLLoss() # Use NLLLoss function to optimize"
   ]
  },
  {
   "cell_type": "code",
   "execution_count": 8,
   "id": "e23c60cb",
   "metadata": {},
   "outputs": [],
   "source": [
    "optimizer = optim.Adam(model.parameters(), lr=0.0001) # Setting parameters learning rate = 0.0001"
   ]
  },
  {
   "cell_type": "code",
   "execution_count": 9,
   "id": "086a7e33",
   "metadata": {
    "id": "086a7e33",
    "outputId": "17320448-2c7e-48a8-8c2f-c4d6ab88ef4e"
   },
   "outputs": [
    {
     "name": "stdout",
     "output_type": "stream",
     "text": [
      "Epoch 1/20, Loss: 1.5879477262496948\n",
      "Epoch 2/20, Loss: 1.5736573934555054\n",
      "Epoch 3/20, Loss: 1.4652020931243896\n",
      "Epoch 4/20, Loss: 1.378119945526123\n",
      "Epoch 5/20, Loss: 1.2584354877471924\n",
      "Epoch 6/20, Loss: 1.244750738143921\n",
      "Epoch 7/20, Loss: 1.1368478536605835\n",
      "Epoch 8/20, Loss: 0.8492183685302734\n",
      "Epoch 9/20, Loss: 1.0124014616012573\n",
      "Epoch 10/20, Loss: 0.5366473197937012\n",
      "Epoch 11/20, Loss: 0.5674989819526672\n",
      "Epoch 12/20, Loss: 0.33723941445350647\n",
      "Epoch 13/20, Loss: 0.3028312623500824\n",
      "Epoch 14/20, Loss: 0.23253951966762543\n",
      "Epoch 15/20, Loss: 0.1574769765138626\n",
      "Epoch 16/20, Loss: 0.13561952114105225\n",
      "Epoch 17/20, Loss: 0.09890972822904587\n",
      "Epoch 18/20, Loss: 0.10339082777500153\n",
      "Epoch 19/20, Loss: 0.05302770063281059\n",
      "Epoch 20/20, Loss: 0.0655115619301796\n"
     ]
    }
   ],
   "source": [
    "num_epochs = 20 # setting training epochs (Number of training iterations)\n",
    "for epoch in range(num_epochs):\n",
    "    model.train()\n",
    "    for data, labels in train_loader:\n",
    "        optimizer.zero_grad()\n",
    "        outputs = model(data)\n",
    "        loss = criterion(outputs, labels)\n",
    "        loss.backward()\n",
    "        optimizer.step()\n",
    "\n",
    "    print(f'Epoch {epoch + 1}/{num_epochs}, Loss: {loss.item()}')"
   ]
  },
  {
   "cell_type": "code",
   "execution_count": 10,
   "id": "7969f355",
   "metadata": {
    "id": "7969f355",
    "outputId": "8d6684b2-d2d3-452a-859a-5e464aeddefa"
   },
   "outputs": [
    {
     "name": "stdout",
     "output_type": "stream",
     "text": [
      "Test Accuracy: 50.99%\n"
     ]
    }
   ],
   "source": [
    "model.eval() # Evaluate your model\n",
    "correct = 0\n",
    "total = 0\n",
    "inputs = []\n",
    "outcomes = []\n",
    "with torch.no_grad():\n",
    "    for data, labels in test_loader:\n",
    "        outputs = model(data)\n",
    "        _, predicted = torch.max(outputs.data, 1)\n",
    "        total += labels.size(0)\n",
    "        correct += (predicted == labels).sum().item()\n",
    "        outcomes+=predicted\n",
    "        inputs += labels\n",
    "\n",
    "accuracy = correct / total\n",
    "print(f'Test Accuracy: {accuracy * 100:.2f}%')\n",
    "#print(outcomes)"
   ]
  },
  {
   "cell_type": "code",
   "execution_count": 11,
   "id": "31b57f6e",
   "metadata": {},
   "outputs": [],
   "source": [
    "def output_interpret(out):\n",
    "    i = out.item()\n",
    "    if i == 0:\n",
    "        return \"hello\"\n",
    "    if i == 1:\n",
    "        return \"help me\"\n",
    "    if i == 2:\n",
    "        return \"stop\"\n",
    "    if i == 3:\n",
    "        return \"thank you\"\n",
    "    if i == 4:\n",
    "        return \"yes\"\n",
    "                \n",
    "    return \"fail\""
   ]
  },
  {
   "cell_type": "code",
   "execution_count": 12,
   "id": "7755b753",
   "metadata": {},
   "outputs": [
    {
     "name": "stdout",
     "output_type": "stream",
     "text": [
      "[('thank you', 'yes'), ('yes', 'thank you'), ('help me', 'help me'), ('stop', 'yes'), ('help me', 'yes'), ('yes', 'stop'), ('thank you', 'thank you'), ('help me', 'thank you'), ('stop', 'stop'), ('stop', 'hello'), ('stop', 'stop'), ('hello', 'hello'), ('stop', 'yes'), ('help me', 'help me'), ('help me', 'help me'), ('stop', 'stop'), ('help me', 'help me'), ('yes', 'yes'), ('yes', 'yes'), ('help me', 'yes'), ('hello', 'yes'), ('help me', 'help me'), ('hello', 'help me'), ('stop', 'yes'), ('thank you', 'stop'), ('hello', 'hello'), ('thank you', 'thank you'), ('thank you', 'yes'), ('thank you', 'stop'), ('thank you', 'yes'), ('hello', 'hello'), ('thank you', 'thank you'), ('yes', 'yes'), ('stop', 'stop'), ('yes', 'yes'), ('hello', 'yes'), ('help me', 'stop'), ('yes', 'yes'), ('yes', 'yes'), ('hello', 'stop'), ('yes', 'yes'), ('help me', 'hello'), ('hello', 'yes'), ('stop', 'stop'), ('yes', 'yes'), ('thank you', 'stop'), ('hello', 'yes'), ('hello', 'yes'), ('stop', 'stop'), ('thank you', 'thank you'), ('help me', 'stop'), ('hello', 'stop'), ('stop', 'thank you'), ('help me', 'hello'), ('help me', 'help me'), ('help me', 'stop'), ('yes', 'yes'), ('thank you', 'help me'), ('stop', 'thank you'), ('stop', 'yes'), ('thank you', 'thank you'), ('thank you', 'stop'), ('yes', 'yes'), ('help me', 'yes'), ('yes', 'yes'), ('yes', 'yes'), ('hello', 'yes'), ('yes', 'stop'), ('yes', 'hello'), ('thank you', 'yes'), ('hello', 'thank you'), ('yes', 'yes'), ('thank you', 'help me'), ('hello', 'yes'), ('hello', 'hello'), ('stop', 'hello'), ('stop', 'thank you'), ('hello', 'thank you'), ('yes', 'yes'), ('stop', 'stop'), ('yes', 'yes'), ('hello', 'yes'), ('yes', 'yes'), ('help me', 'stop'), ('stop', 'stop'), ('hello', 'yes'), ('help me', 'yes'), ('help me', 'thank you'), ('hello', 'thank you'), ('stop', 'yes'), ('stop', 'stop'), ('thank you', 'yes'), ('hello', 'yes'), ('thank you', 'thank you'), ('stop', 'stop'), ('help me', 'thank you'), ('thank you', 'thank you'), ('thank you', 'thank you'), ('help me', 'help me'), ('thank you', 'thank you'), ('stop', 'help me'), ('thank you', 'yes'), ('yes', 'yes'), ('hello', 'yes'), ('yes', 'thank you'), ('thank you', 'yes'), ('thank you', 'stop'), ('hello', 'yes'), ('stop', 'thank you'), ('stop', 'help me'), ('hello', 'hello'), ('hello', 'yes'), ('thank you', 'stop'), ('thank you', 'thank you'), ('hello', 'hello'), ('hello', 'hello'), ('help me', 'help me'), ('thank you', 'yes'), ('help me', 'help me'), ('stop', 'stop'), ('stop', 'yes'), ('yes', 'yes'), ('stop', 'yes'), ('thank you', 'thank you'), ('help me', 'help me'), ('thank you', 'thank you'), ('hello', 'help me'), ('hello', 'stop'), ('thank you', 'yes'), ('yes', 'yes'), ('yes', 'thank you'), ('stop', 'stop'), ('stop', 'stop'), ('thank you', 'thank you'), ('yes', 'stop'), ('help me', 'help me'), ('help me', 'help me'), ('hello', 'help me'), ('yes', 'yes'), ('help me', 'help me'), ('stop', 'stop'), ('help me', 'stop'), ('yes', 'yes'), ('yes', 'yes'), ('help me', 'stop'), ('help me', 'stop'), ('help me', 'help me'), ('stop', 'stop'), ('hello', 'yes'), ('yes', 'thank you'), ('yes', 'yes'), ('stop', 'yes'), ('hello', 'hello'), ('yes', 'yes'), ('help me', 'help me'), ('hello', 'help me'), ('stop', 'help me'), ('help me', 'thank you'), ('stop', 'stop'), ('stop', 'stop'), ('help me', 'stop'), ('yes', 'yes'), ('thank you', 'help me'), ('help me', 'yes'), ('hello', 'hello'), ('help me', 'help me'), ('stop', 'thank you'), ('hello', 'hello'), ('stop', 'yes'), ('yes', 'help me'), ('thank you', 'help me'), ('stop', 'stop'), ('yes', 'yes'), ('hello', 'hello'), ('yes', 'yes'), ('thank you', 'thank you'), ('yes', 'yes'), ('thank you', 'help me'), ('help me', 'hello'), ('hello', 'hello'), ('help me', 'help me'), ('yes', 'help me'), ('hello', 'hello'), ('hello', 'yes'), ('stop', 'stop'), ('help me', 'help me'), ('hello', 'yes'), ('thank you', 'stop'), ('stop', 'help me'), ('thank you', 'thank you'), ('thank you', 'stop'), ('thank you', 'stop'), ('help me', 'stop'), ('thank you', 'stop'), ('yes', 'yes'), ('hello', 'hello'), ('help me', 'help me'), ('yes', 'yes'), ('thank you', 'help me'), ('stop', 'stop'), ('yes', 'yes'), ('hello', 'hello'), ('yes', 'yes'), ('yes', 'yes'), ('stop', 'hello'), ('yes', 'yes'), ('yes', 'yes'), ('hello', 'stop'), ('thank you', 'thank you'), ('help me', 'hello'), ('thank you', 'thank you'), ('stop', 'yes'), ('yes', 'yes'), ('thank you', 'hello'), ('hello', 'hello'), ('thank you', 'hello'), ('help me', 'thank you'), ('help me', 'thank you'), ('thank you', 'yes'), ('help me', 'hello'), ('yes', 'yes'), ('yes', 'yes'), ('help me', 'yes'), ('stop', 'help me'), ('yes', 'yes'), ('hello', 'thank you'), ('thank you', 'thank you'), ('thank you', 'thank you'), ('stop', 'stop'), ('hello', 'thank you'), ('help me', 'help me'), ('thank you', 'yes'), ('help me', 'hello'), ('help me', 'help me'), ('stop', 'stop'), ('hello', 'yes'), ('hello', 'yes'), ('yes', 'yes'), ('thank you', 'thank you'), ('stop', 'thank you'), ('stop', 'stop'), ('stop', 'stop'), ('stop', 'stop'), ('hello', 'help me'), ('hello', 'hello'), ('help me', 'thank you'), ('stop', 'hello'), ('help me', 'hello'), ('hello', 'hello'), ('thank you', 'stop'), ('yes', 'yes'), ('yes', 'thank you'), ('hello', 'help me'), ('help me', 'hello'), ('hello', 'hello'), ('hello', 'help me'), ('thank you', 'help me'), ('help me', 'help me'), ('stop', 'yes'), ('thank you', 'yes'), ('hello', 'yes'), ('thank you', 'thank you'), ('stop', 'stop'), ('help me', 'thank you'), ('stop', 'hello'), ('stop', 'yes'), ('yes', 'help me'), ('stop', 'help me'), ('help me', 'yes'), ('help me', 'stop'), ('hello', 'hello'), ('help me', 'thank you'), ('thank you', 'yes'), ('hello', 'help me'), ('help me', 'stop'), ('yes', 'stop'), ('stop', 'stop'), ('help me', 'yes'), ('help me', 'thank you'), ('thank you', 'thank you'), ('thank you', 'yes'), ('hello', 'hello'), ('hello', 'hello'), ('stop', 'thank you'), ('thank you', 'help me'), ('hello', 'thank you'), ('help me', 'thank you'), ('yes', 'yes'), ('stop', 'yes'), ('thank you', 'help me'), ('yes', 'yes'), ('thank you', 'thank you'), ('yes', 'yes'), ('yes', 'yes'), ('thank you', 'yes'), ('hello', 'yes'), ('yes', 'yes'), ('yes', 'yes'), ('stop', 'yes'), ('stop', 'help me'), ('thank you', 'yes'), ('hello', 'yes'), ('yes', 'yes'), ('help me', 'thank you'), ('stop', 'stop'), ('hello', 'hello'), ('hello', 'help me'), ('hello', 'hello'), ('stop', 'hello'), ('thank you', 'thank you'), ('help me', 'yes'), ('yes', 'stop'), ('hello', 'hello'), ('thank you', 'hello'), ('thank you', 'yes'), ('hello', 'stop'), ('stop', 'hello'), ('help me', 'hello'), ('stop', 'help me'), ('help me', 'help me'), ('help me', 'help me'), ('thank you', 'thank you'), ('help me', 'help me'), ('stop', 'yes'), ('thank you', 'thank you'), ('stop', 'stop'), ('hello', 'stop'), ('yes', 'yes'), ('thank you', 'thank you'), ('help me', 'yes'), ('yes', 'yes'), ('stop', 'stop'), ('hello', 'thank you'), ('yes', 'yes'), ('stop', 'hello'), ('thank you', 'thank you'), ('yes', 'yes'), ('thank you', 'thank you'), ('stop', 'yes'), ('help me', 'hello'), ('yes', 'yes'), ('hello', 'help me'), ('stop', 'yes'), ('yes', 'yes'), ('thank you', 'thank you'), ('help me', 'hello'), ('yes', 'yes'), ('help me', 'help me'), ('yes', 'yes'), ('hello', 'stop'), ('thank you', 'thank you'), ('thank you', 'hello'), ('stop', 'thank you'), ('hello', 'hello'), ('hello', 'thank you'), ('stop', 'stop'), ('help me', 'help me'), ('hello', 'yes'), ('thank you', 'yes'), ('stop', 'stop'), ('thank you', 'thank you'), ('yes', 'stop'), ('help me', 'help me'), ('help me', 'help me'), ('thank you', 'thank you'), ('help me', 'help me'), ('thank you', 'thank you'), ('help me', 'stop'), ('stop', 'yes'), ('stop', 'stop'), ('yes', 'thank you'), ('yes', 'yes'), ('help me', 'help me'), ('thank you', 'thank you'), ('hello', 'thank you'), ('yes', 'yes'), ('hello', 'hello'), ('hello', 'hello'), ('help me', 'help me'), ('yes', 'hello'), ('stop', 'stop'), ('help me', 'help me'), ('yes', 'yes'), ('hello', 'thank you'), ('thank you', 'stop'), ('thank you', 'thank you'), ('hello', 'help me'), ('help me', 'thank you'), ('help me', 'help me'), ('stop', 'yes'), ('yes', 'yes'), ('stop', 'thank you'), ('hello', 'stop'), ('hello', 'hello'), ('yes', 'stop'), ('yes', 'yes'), ('stop', 'help me'), ('stop', 'stop'), ('thank you', 'thank you'), ('yes', 'yes'), ('hello', 'thank you'), ('hello', 'hello'), ('thank you', 'hello'), ('stop', 'stop'), ('stop', 'stop'), ('help me', 'hello'), ('thank you', 'yes'), ('stop', 'yes'), ('thank you', 'thank you'), ('hello', 'thank you'), ('yes', 'help me'), ('help me', 'hello'), ('thank you', 'stop'), ('thank you', 'stop'), ('yes', 'stop'), ('help me', 'hello'), ('thank you', 'stop'), ('yes', 'yes'), ('stop', 'stop'), ('thank you', 'yes'), ('yes', 'help me'), ('yes', 'yes'), ('help me', 'yes'), ('help me', 'help me'), ('stop', 'stop'), ('thank you', 'hello'), ('hello', 'stop'), ('hello', 'hello'), ('help me', 'help me'), ('stop', 'hello'), ('yes', 'yes'), ('yes', 'stop'), ('hello', 'hello'), ('stop', 'stop'), ('thank you', 'thank you'), ('hello', 'hello'), ('help me', 'hello'), ('hello', 'hello'), ('yes', 'yes'), ('yes', 'yes'), ('help me', 'yes'), ('stop', 'hello'), ('thank you', 'yes'), ('stop', 'help me'), ('hello', 'hello'), ('help me', 'yes'), ('stop', 'yes'), ('hello', 'hello'), ('help me', 'hello'), ('yes', 'yes'), ('help me', 'yes'), ('help me', 'help me'), ('thank you', 'stop'), ('hello', 'help me'), ('thank you', 'stop'), ('hello', 'help me'), ('stop', 'hello'), ('thank you', 'thank you'), ('stop', 'stop'), ('stop', 'stop'), ('yes', 'thank you'), ('help me', 'help me'), ('help me', 'help me'), ('thank you', 'stop'), ('thank you', 'stop'), ('yes', 'thank you'), ('stop', 'yes'), ('hello', 'hello'), ('thank you', 'yes'), ('hello', 'thank you'), ('hello', 'hello'), ('yes', 'yes'), ('yes', 'yes'), ('thank you', 'thank you'), ('yes', 'yes'), ('hello', 'thank you'), ('hello', 'hello'), ('yes', 'yes'), ('stop', 'help me'), ('yes', 'yes'), ('yes', 'yes'), ('yes', 'help me'), ('thank you', 'thank you'), ('help me', 'help me'), ('help me', 'yes'), ('hello', 'hello'), ('stop', 'stop'), ('stop', 'help me'), ('hello', 'thank you'), ('hello', 'hello'), ('help me', 'help me'), ('yes', 'hello'), ('thank you', 'thank you'), ('stop', 'thank you'), ('stop', 'yes'), ('help me', 'yes'), ('help me', 'help me'), ('stop', 'yes'), ('thank you', 'yes'), ('help me', 'yes'), ('help me', 'help me'), ('help me', 'hello'), ('help me', 'help me'), ('thank you', 'thank you'), ('thank you', 'thank you'), ('thank you', 'help me'), ('hello', 'hello'), ('stop', 'stop'), ('help me', 'thank you'), ('stop', 'stop'), ('stop', 'stop'), ('hello', 'hello'), ('hello', 'hello'), ('yes', 'stop'), ('stop', 'stop'), ('thank you', 'stop'), ('yes', 'help me'), ('yes', 'yes'), ('hello', 'yes'), ('stop', 'yes'), ('yes', 'stop'), ('stop', 'stop'), ('stop', 'yes'), ('help me', 'thank you'), ('stop', 'yes'), ('yes', 'yes'), ('yes', 'help me'), ('yes', 'yes'), ('help me', 'help me'), ('help me', 'help me'), ('thank you', 'thank you'), ('hello', 'hello'), ('hello', 'yes'), ('hello', 'hello'), ('yes', 'yes'), ('help me', 'yes'), ('yes', 'yes'), ('yes', 'thank you'), ('stop', 'stop'), ('stop', 'stop'), ('thank you', 'thank you'), ('thank you', 'thank you'), ('thank you', 'hello'), ('hello', 'thank you'), ('hello', 'hello'), ('hello', 'hello'), ('thank you', 'thank you'), ('thank you', 'yes'), ('help me', 'thank you'), ('help me', 'thank you'), ('hello', 'hello'), ('thank you', 'thank you'), ('help me', 'help me'), ('help me', 'help me'), ('help me', 'help me'), ('help me', 'help me'), ('thank you', 'yes'), ('thank you', 'yes'), ('yes', 'yes'), ('yes', 'yes'), ('yes', 'yes'), ('thank you', 'thank you'), ('thank you', 'yes'), ('yes', 'yes'), ('hello', 'yes'), ('hello', 'hello'), ('stop', 'stop'), ('help me', 'help me'), ('stop', 'stop'), ('stop', 'yes'), ('thank you', 'yes'), ('thank you', 'thank you'), ('yes', 'yes'), ('help me', 'help me'), ('help me', 'thank you'), ('hello', 'stop'), ('thank you', 'yes'), ('stop', 'yes'), ('yes', 'yes'), ('yes', 'yes'), ('thank you', 'thank you'), ('thank you', 'yes'), ('yes', 'yes'), ('hello', 'hello'), ('hello', 'yes'), ('hello', 'yes'), ('stop', 'stop'), ('hello', 'hello'), ('help me', 'help me'), ('stop', 'thank you'), ('stop', 'thank you'), ('stop', 'stop'), ('help me', 'yes'), ('help me', 'hello'), ('hello', 'hello'), ('hello', 'yes'), ('yes', 'yes'), ('yes', 'yes'), ('stop', 'stop'), ('stop', 'yes'), ('hello', 'hello'), ('stop', 'stop'), ('thank you', 'thank you'), ('help me', 'yes'), ('help me', 'hello'), ('stop', 'hello'), ('stop', 'stop'), ('thank you', 'thank you'), ('thank you', 'stop'), ('thank you', 'yes'), ('help me', 'hello'), ('help me', 'help me'), ('yes', 'yes'), ('stop', 'stop'), ('thank you', 'stop'), ('yes', 'yes'), ('hello', 'hello'), ('yes', 'yes'), ('stop', 'thank you'), ('hello', 'yes'), ('hello', 'help me'), ('stop', 'thank you'), ('help me', 'hello'), ('hello', 'hello'), ('yes', 'stop'), ('help me', 'hello'), ('thank you', 'yes'), ('hello', 'stop'), ('thank you', 'help me'), ('help me', 'help me'), ('hello', 'hello'), ('stop', 'stop'), ('stop', 'stop'), ('thank you', 'help me'), ('yes', 'hello'), ('thank you', 'yes'), ('hello', 'yes'), ('yes', 'yes'), ('hello', 'hello'), ('thank you', 'thank you'), ('stop', 'stop'), ('yes', 'stop'), ('help me', 'hello'), ('yes', 'yes'), ('yes', 'hello'), ('help me', 'help me'), ('yes', 'thank you'), ('stop', 'stop'), ('help me', 'help me'), ('hello', 'thank you'), ('thank you', 'thank you'), ('hello', 'help me'), ('thank you', 'thank you'), ('stop', 'stop'), ('thank you', 'hello'), ('yes', 'yes'), ('yes', 'yes'), ('yes', 'yes'), ('hello', 'thank you'), ('yes', 'thank you'), ('help me', 'yes'), ('hello', 'hello'), ('stop', 'stop'), ('help me', 'stop'), ('thank you', 'thank you'), ('help me', 'help me'), ('hello', 'thank you'), ('yes', 'hello'), ('stop', 'help me'), ('thank you', 'thank you'), ('help me', 'help me'), ('stop', 'thank you'), ('stop', 'stop'), ('hello', 'hello'), ('yes', 'yes'), ('thank you', 'hello'), ('stop', 'yes'), ('yes', 'yes'), ('stop', 'help me'), ('hello', 'yes'), ('thank you', 'thank you'), ('thank you', 'help me'), ('help me', 'help me'), ('hello', 'yes'), ('stop', 'stop'), ('thank you', 'thank you'), ('help me', 'help me'), ('hello', 'yes'), ('help me', 'help me'), ('yes', 'stop'), ('hello', 'hello'), ('stop', 'stop'), ('help me', 'help me'), ('yes', 'yes'), ('hello', 'yes'), ('help me', 'yes'), ('stop', 'hello'), ('thank you', 'thank you'), ('yes', 'yes'), ('help me', 'help me'), ('stop', 'stop'), ('yes', 'yes'), ('thank you', 'help me'), ('thank you', 'thank you')]\n"
     ]
    }
   ],
   "source": [
    "def data_and_predictions():\n",
    "    pred = list(map(output_interpret,outcomes))\n",
    "    data = list(map(output_interpret,inputs))\n",
    "    result = []\n",
    "    \n",
    "    for i in range(0,len(pred)):\n",
    "        result = result + [(data[i] , pred[i])]\n",
    "    \n",
    "    return result\n",
    "\n",
    "print(data_and_predictions())"
   ]
  },
  {
   "cell_type": "code",
   "execution_count": 13,
   "id": "1b90993f",
   "metadata": {},
   "outputs": [],
   "source": [
    "data = data_and_predictions()\n",
    "with open('model_outcomes.csv','w') as out:\n",
    "    csv_out=csv.writer(out)\n",
    "    csv_out.writerow(['data','prediction'])\n",
    "    for row in data:\n",
    "        csv_out.writerow(row)"
   ]
  },
  {
   "cell_type": "code",
   "execution_count": null,
   "id": "d5efff0b",
   "metadata": {},
   "outputs": [],
   "source": []
  }
 ],
 "metadata": {
  "colab": {
   "provenance": []
  },
  "kernelspec": {
   "display_name": "Python 3 (ipykernel)",
   "language": "python",
   "name": "python3"
  },
  "language_info": {
   "codemirror_mode": {
    "name": "ipython",
    "version": 3
   },
   "file_extension": ".py",
   "mimetype": "text/x-python",
   "name": "python",
   "nbconvert_exporter": "python",
   "pygments_lexer": "ipython3",
   "version": "3.10.13"
  }
 },
 "nbformat": 4,
 "nbformat_minor": 5
}
