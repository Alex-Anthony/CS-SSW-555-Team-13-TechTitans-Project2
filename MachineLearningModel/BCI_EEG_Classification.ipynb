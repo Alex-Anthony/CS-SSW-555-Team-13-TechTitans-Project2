{
 "cells": [
  {
   "cell_type": "markdown",
   "id": "88e3d8a4",
   "metadata": {
    "id": "88e3d8a4"
   },
   "source": [
    "# EEG DataLoader"
   ]
  },
  {
   "cell_type": "markdown",
   "id": "78e016ab",
   "metadata": {
    "id": "78e016ab"
   },
   "source": [
    "The dimensions of the training set are as follows: 4,500 samples, 64 channels, and a time length of 795. This corresponds to 5 categories in y_train.\n",
    "\n",
    "The dimensions of the testing set are as follows: 750 samples, 64 channels, and a time length of 795. This corresponds to 5 categories in y_test.\n",
    "\n",
    "You can download it from this Google Drive link: [https://drive.google.com/drive/folders/1ykR-mn4d4KfFeeNrfR6UdtebsNRY8PU2?usp=sharing].\n",
    "Please download the data and place it in your data_path at \"./data.\""
   ]
  },
  {
   "cell_type": "code",
   "execution_count": 1,
   "id": "b284602d",
   "metadata": {
    "id": "b284602d"
   },
   "outputs": [],
   "source": [
    "import numpy as np\n",
    "import torch\n",
    "import torch.nn as nn\n",
    "import torch.optim as optim\n",
    "from torch.utils.data import DataLoader, TensorDataset"
   ]
  },
  {
   "cell_type": "code",
   "execution_count": 2,
   "id": "fef2ddad",
   "metadata": {
    "id": "fef2ddad",
    "scrolled": false
   },
   "outputs": [],
   "source": [
    "data_path = 'data/'"
   ]
  },
  {
   "cell_type": "code",
   "execution_count": 3,
   "id": "fbb56c77",
   "metadata": {
    "id": "fbb56c77"
   },
   "outputs": [],
   "source": [
    "train_data = np.load(data_path + 'train_data.npy')\n",
    "test_data = np.load(data_path + 'test_data.npy')\n",
    "train_label = np.load(data_path + 'train_label.npy')\n",
    "test_label = np.load(data_path + 'test_label.npy')\n",
    "\n",
    "#To convert the data into PyTorch tensors\n",
    "x_train_tensor = torch.Tensor(train_data)\n",
    "y_train_tensor = torch.LongTensor(train_label)\n",
    "x_test_tensor = torch.Tensor(test_data)\n",
    "y_test_tensor = torch.LongTensor(test_label)"
   ]
  },
  {
   "cell_type": "code",
   "execution_count": 4,
   "id": "f13109bc",
   "metadata": {
    "id": "f13109bc"
   },
   "outputs": [],
   "source": [
    "device = torch.device(\"cuda\" if torch.cuda.is_available() else \"cpu\") #Setting GPU on your computer"
   ]
  },
  {
   "cell_type": "code",
   "execution_count": 5,
   "id": "38430b1f",
   "metadata": {
    "id": "38430b1f"
   },
   "outputs": [],
   "source": [
    "train_dataset = TensorDataset(x_train_tensor.to(device), y_train_tensor.to(device)) # input data to Tensor dataloader\n",
    "train_loader = DataLoader(train_dataset, batch_size=64, drop_last=True, shuffle=True) #  Batch size refers to the number of data sample\n",
    "test_dataset = TensorDataset(x_test_tensor.to(device), y_test_tensor.to(device))\n",
    "test_loader = DataLoader(test_dataset, batch_size=64,  drop_last=True,shuffle=False)"
   ]
  },
  {
   "cell_type": "markdown",
   "id": "a304b4d6",
   "metadata": {
    "id": "a304b4d6"
   },
   "source": [
    "# Build simple Deep learning model"
   ]
  },
  {
   "cell_type": "code",
   "execution_count": 6,
   "id": "2f9468f8",
   "metadata": {
    "id": "2f9468f8"
   },
   "outputs": [],
   "source": [
    "class EEGAutoencoderClassifier(nn.Module):\n",
    "    def __init__(self, num_classes):\n",
    "        super(EEGAutoencoderClassifier, self).__init__()\n",
    "        self.encoder = nn.Sequential(\n",
    "            nn.Linear(64 * 795, 256), # Input dimention is 64 channel * 795 time point, and use 256 units for first NN layer\n",
    "            nn.ReLU(), # Use ReLu function for NN training\n",
    "            nn.Linear(256, 128), # 256 NN units to 128 units\n",
    "            nn.ReLU(),\n",
    "            nn.Linear(128, 64),#  128 NN units to 64 units\n",
    "            nn.ReLU()\n",
    "        )\n",
    "        self.classifier = nn.Sequential(\n",
    "            nn.Linear(64, num_classes), # num_classes is 5 (hello,” “help me,” “stop,” “thank you,” and “yes”)\n",
    "            nn.LogSoftmax(dim=1)  # Use LogSoftmax for multi-class classification\n",
    "        )\n",
    "\n",
    "    def forward(self, x):\n",
    "        x = x.view(x.size(0), -1)\n",
    "        x = self.encoder(x)\n",
    "\n",
    "        # import pdb;pdb.set_trace()\n",
    "        x = self.classifier(x)\n",
    "        return x"
   ]
  },
  {
   "cell_type": "code",
   "execution_count": 20,
   "id": "2369fa9c",
   "metadata": {
    "id": "2369fa9c"
   },
   "outputs": [],
   "source": [
    "num_classes = 5 # setting final output class\n",
    "model = EEGAutoencoderClassifier(num_classes).to(device)\n",
    "criterion = nn.NLLLoss() # Use NLLLoss function to optimize\n",
    "optimizer = optim.Adam(model.parameters(), lr=0.0001) # Setting parameters learning rate = 0.001"
   ]
  },
  {
   "cell_type": "code",
   "execution_count": 21,
   "id": "086a7e33",
   "metadata": {
    "id": "086a7e33",
    "outputId": "17320448-2c7e-48a8-8c2f-c4d6ab88ef4e"
   },
   "outputs": [
    {
     "name": "stdout",
     "output_type": "stream",
     "text": [
      "Epoch 1/30, Loss: 1.545612096786499\n",
      "Epoch 2/30, Loss: 1.5190986394882202\n",
      "Epoch 3/30, Loss: 1.3497077226638794\n",
      "Epoch 4/30, Loss: 1.242268681526184\n",
      "Epoch 5/30, Loss: 1.048240065574646\n",
      "Epoch 6/30, Loss: 0.9165648221969604\n",
      "Epoch 7/30, Loss: 0.8483937382698059\n",
      "Epoch 8/30, Loss: 0.8366490006446838\n",
      "Epoch 9/30, Loss: 0.7892788648605347\n",
      "Epoch 10/30, Loss: 0.6241967082023621\n",
      "Epoch 11/30, Loss: 0.6232650279998779\n",
      "Epoch 12/30, Loss: 0.3642975986003876\n",
      "Epoch 13/30, Loss: 0.33803895115852356\n",
      "Epoch 14/30, Loss: 0.3252684772014618\n",
      "Epoch 15/30, Loss: 0.18022795021533966\n",
      "Epoch 16/30, Loss: 0.20811817049980164\n",
      "Epoch 17/30, Loss: 0.1400316208600998\n",
      "Epoch 18/30, Loss: 0.18394386768341064\n",
      "Epoch 19/30, Loss: 0.12285610288381577\n",
      "Epoch 20/30, Loss: 0.12033401429653168\n",
      "Epoch 21/30, Loss: 0.09898341447114944\n",
      "Epoch 22/30, Loss: 0.07425139844417572\n",
      "Epoch 23/30, Loss: 0.05003659427165985\n",
      "Epoch 24/30, Loss: 0.027734391391277313\n",
      "Epoch 25/30, Loss: 0.07303278893232346\n",
      "Epoch 26/30, Loss: 0.13993914425373077\n",
      "Epoch 27/30, Loss: 0.03654148057103157\n",
      "Epoch 28/30, Loss: 0.03948815166950226\n",
      "Epoch 29/30, Loss: 0.06758756190538406\n",
      "Epoch 30/30, Loss: 0.03124706819653511\n"
     ]
    }
   ],
   "source": [
    "num_epochs = 30 # setting training epochs (Number of training iterations)\n",
    "for epoch in range(num_epochs):\n",
    "    model.train()\n",
    "    for data, labels in train_loader:\n",
    "        optimizer.zero_grad()\n",
    "        outputs = model(data)\n",
    "        loss = criterion(outputs, labels)\n",
    "        loss.backward()\n",
    "        optimizer.step()\n",
    "\n",
    "    print(f'Epoch {epoch + 1}/{num_epochs}, Loss: {loss.item()}')"
   ]
  },
  {
   "cell_type": "code",
   "execution_count": 22,
   "id": "7969f355",
   "metadata": {
    "id": "7969f355",
    "outputId": "8d6684b2-d2d3-452a-859a-5e464aeddefa"
   },
   "outputs": [
    {
     "name": "stdout",
     "output_type": "stream",
     "text": [
      "Test Accuracy: 47.87%\n"
     ]
    }
   ],
   "source": [
    "model.eval() # Evaluate your model\n",
    "correct = 0\n",
    "total = 0\n",
    "\n",
    "with torch.no_grad():\n",
    "    for data, labels in test_loader:\n",
    "        outputs = model(data)\n",
    "        _, predicted = torch.max(outputs.data, 1)\n",
    "        total += labels.size(0)\n",
    "        correct += (predicted == labels).sum().item()\n",
    "\n",
    "accuracy = correct / total\n",
    "print(f'Test Accuracy: {accuracy * 100:.2f}%')"
   ]
  },
  {
   "cell_type": "code",
   "execution_count": null,
   "id": "31b57f6e",
   "metadata": {},
   "outputs": [],
   "source": []
  },
  {
   "cell_type": "code",
   "execution_count": null,
   "id": "7755b753",
   "metadata": {},
   "outputs": [],
   "source": []
  }
 ],
 "metadata": {
  "colab": {
   "provenance": []
  },
  "kernelspec": {
   "display_name": "Python 3 (ipykernel)",
   "language": "python",
   "name": "python3"
  },
  "language_info": {
   "codemirror_mode": {
    "name": "ipython",
    "version": 3
   },
   "file_extension": ".py",
   "mimetype": "text/x-python",
   "name": "python",
   "nbconvert_exporter": "python",
   "pygments_lexer": "ipython3",
   "version": "3.9.12"
  }
 },
 "nbformat": 4,
 "nbformat_minor": 5
}
