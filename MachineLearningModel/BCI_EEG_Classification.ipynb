{
 "cells": [
  {
   "cell_type": "markdown",
   "id": "88e3d8a4",
   "metadata": {
    "id": "88e3d8a4"
   },
   "source": [
    "# EEG DataLoader"
   ]
  },
  {
   "cell_type": "markdown",
   "id": "78e016ab",
   "metadata": {
    "id": "78e016ab"
   },
   "source": [
    "The dimensions of the training set are as follows: 4,500 samples, 64 channels, and a time length of 795. This corresponds to 5 categories in y_train.\n",
    "\n",
    "The dimensions of the testing set are as follows: 750 samples, 64 channels, and a time length of 795. This corresponds to 5 categories in y_test.\n",
    "\n",
    "You can download it from this Google Drive link: [https://drive.google.com/drive/folders/1ykR-mn4d4KfFeeNrfR6UdtebsNRY8PU2?usp=sharing].\n",
    "Please download the data and place it in your data_path at \"./data.\""
   ]
  },
  {
   "cell_type": "code",
   "execution_count": 1,
   "id": "b284602d",
   "metadata": {
    "id": "b284602d"
   },
   "outputs": [],
   "source": [
    "import numpy as np\n",
    "import torch\n",
    "import torch.nn as nn\n",
    "import torch.optim as optim\n",
    "import pandas as pd\n",
    "from torch.utils.data import DataLoader, TensorDataset"
   ]
  },
  {
   "cell_type": "code",
   "execution_count": 3,
   "id": "fef2ddad",
   "metadata": {
    "id": "fef2ddad",
    "scrolled": false
   },
   "outputs": [],
   "source": [
    "data_path = 'data/'"
   ]
  },
  {
   "cell_type": "code",
   "execution_count": 4,
   "id": "fbb56c77",
   "metadata": {
    "id": "fbb56c77"
   },
   "outputs": [
    {
     "ename": "FileNotFoundError",
     "evalue": "[Errno 2] No such file or directory: 'data/train_data.npy'",
     "output_type": "error",
     "traceback": [
      "\u001b[0;31m---------------------------------------------------------------------------\u001b[0m",
      "\u001b[0;31mFileNotFoundError\u001b[0m                         Traceback (most recent call last)",
      "Cell \u001b[0;32mIn[4], line 1\u001b[0m\n\u001b[0;32m----> 1\u001b[0m train_data \u001b[38;5;241m=\u001b[39m \u001b[43mnp\u001b[49m\u001b[38;5;241;43m.\u001b[39;49m\u001b[43mload\u001b[49m\u001b[43m(\u001b[49m\u001b[43mdata_path\u001b[49m\u001b[43m \u001b[49m\u001b[38;5;241;43m+\u001b[39;49m\u001b[43m \u001b[49m\u001b[38;5;124;43m'\u001b[39;49m\u001b[38;5;124;43mtrain_data.npy\u001b[39;49m\u001b[38;5;124;43m'\u001b[39;49m\u001b[43m)\u001b[49m\n\u001b[1;32m      2\u001b[0m test_data \u001b[38;5;241m=\u001b[39m np\u001b[38;5;241m.\u001b[39mload(data_path \u001b[38;5;241m+\u001b[39m \u001b[38;5;124m'\u001b[39m\u001b[38;5;124mtest_data.npy\u001b[39m\u001b[38;5;124m'\u001b[39m)\n\u001b[1;32m      3\u001b[0m train_label \u001b[38;5;241m=\u001b[39m np\u001b[38;5;241m.\u001b[39mload(data_path \u001b[38;5;241m+\u001b[39m \u001b[38;5;124m'\u001b[39m\u001b[38;5;124mtrain_label.npy\u001b[39m\u001b[38;5;124m'\u001b[39m)\n",
      "File \u001b[0;32m~/.local/lib/python3.10/site-packages/numpy/lib/npyio.py:427\u001b[0m, in \u001b[0;36mload\u001b[0;34m(file, mmap_mode, allow_pickle, fix_imports, encoding, max_header_size)\u001b[0m\n\u001b[1;32m    425\u001b[0m     own_fid \u001b[38;5;241m=\u001b[39m \u001b[38;5;28;01mFalse\u001b[39;00m\n\u001b[1;32m    426\u001b[0m \u001b[38;5;28;01melse\u001b[39;00m:\n\u001b[0;32m--> 427\u001b[0m     fid \u001b[38;5;241m=\u001b[39m stack\u001b[38;5;241m.\u001b[39menter_context(\u001b[38;5;28;43mopen\u001b[39;49m\u001b[43m(\u001b[49m\u001b[43mos_fspath\u001b[49m\u001b[43m(\u001b[49m\u001b[43mfile\u001b[49m\u001b[43m)\u001b[49m\u001b[43m,\u001b[49m\u001b[43m \u001b[49m\u001b[38;5;124;43m\"\u001b[39;49m\u001b[38;5;124;43mrb\u001b[39;49m\u001b[38;5;124;43m\"\u001b[39;49m\u001b[43m)\u001b[49m)\n\u001b[1;32m    428\u001b[0m     own_fid \u001b[38;5;241m=\u001b[39m \u001b[38;5;28;01mTrue\u001b[39;00m\n\u001b[1;32m    430\u001b[0m \u001b[38;5;66;03m# Code to distinguish from NumPy binary files and pickles.\u001b[39;00m\n",
      "\u001b[0;31mFileNotFoundError\u001b[0m: [Errno 2] No such file or directory: 'data/train_data.npy'"
     ]
    }
   ],
   "source": [
    "train_data = np.load(data_path + 'train_data.npy')\n",
    "test_data = np.load(data_path + 'test_data.npy')\n",
    "train_label = np.load(data_path + 'train_label.npy')\n",
    "test_label = np.load(data_path + 'test_label.npy')\n",
    "\n",
    "#To convert the data into PyTorch tensors\n",
    "x_train_tensor = torch.Tensor(train_data)\n",
    "y_train_tensor = torch.LongTensor(train_label)\n",
    "x_test_tensor = torch.Tensor(test_data)\n",
    "y_test_tensor = torch.LongTensor(test_label)"
   ]
  },
  {
   "cell_type": "code",
   "execution_count": 6,
   "id": "f13109bc",
   "metadata": {
    "id": "f13109bc"
   },
   "outputs": [],
   "source": [
    "device = torch.device(\"cuda\" if torch.cuda.is_available() else \"cpu\") #Setting GPU on your computer"
   ]
  },
  {
   "cell_type": "code",
   "execution_count": 7,
   "id": "38430b1f",
   "metadata": {
    "id": "38430b1f"
   },
   "outputs": [],
   "source": [
    "train_dataset = TensorDataset(x_train_tensor.to(device), y_train_tensor.to(device)) # input data to Tensor dataloader\n",
    "train_loader = DataLoader(train_dataset, batch_size=64, drop_last=True, shuffle=True) #  Batch size refers to the number of data sample\n",
    "test_dataset = TensorDataset(x_test_tensor.to(device), y_test_tensor.to(device))\n",
    "test_loader = DataLoader(test_dataset, batch_size=64,  drop_last=True,shuffle=False)"
   ]
  },
  {
   "cell_type": "markdown",
   "id": "a6352a90",
   "metadata": {},
   "source": [
    "# Show Data"
   ]
  },
  {
   "cell_type": "code",
   "execution_count": null,
   "id": "8fb7c4c0",
   "metadata": {},
   "outputs": [],
   "source": []
  },
  {
   "cell_type": "markdown",
   "id": "a304b4d6",
   "metadata": {
    "id": "a304b4d6"
   },
   "source": [
    "# Build simple Deep learning model"
   ]
  },
  {
   "cell_type": "code",
   "execution_count": 32,
   "id": "2f9468f8",
   "metadata": {
    "id": "2f9468f8"
   },
   "outputs": [],
   "source": [
    "class EEGAutoencoderClassifier(nn.Module):\n",
    "    def __init__(self, num_classes):\n",
    "        super(EEGAutoencoderClassifier, self).__init__()\n",
    "        self.encoder = nn.Sequential(\n",
    "            nn.Linear(64 * 795, 512), # Input dimention is 64 channel * 795 time point, and use 256 units for first NN layer\n",
    "            nn.ReLU(), # Use ReLu function for NN training\n",
    "            nn.Linear(512, 256), # 256 NN units to 128 units\n",
    "            nn.ReLU(),\n",
    "            nn.Linear(256, 128),#  128 NN units to 64 units\n",
    "            nn.ReLU(),\n",
    "            nn.Linear(128, 64),\n",
    "            nn.ReLU(),\n",
    "            nn.Linear(64,32),\n",
    "            nn.ReLU()\n",
    "        )\n",
    "        self.classifier = nn.Sequential(\n",
    "            nn.Linear(32, num_classes), # num_classes is 5 (hello,” “help me,” “stop,” “thank you,” and “yes”)\n",
    "            nn.LogSoftmax(dim=1)  # Use LogSoftmax for multi-class classification\n",
    "        )\n",
    "\n",
    "    def forward(self, x):\n",
    "        x = x.view(x.size(0), -1)\n",
    "        x = self.encoder(x)\n",
    "\n",
    "        # import pdb;pdb.set_trace()\n",
    "        x = self.classifier(x)\n",
    "        return x"
   ]
  },
  {
   "cell_type": "code",
   "execution_count": 44,
   "id": "2369fa9c",
   "metadata": {
    "id": "2369fa9c"
   },
   "outputs": [],
   "source": [
    "num_classes = 5 # setting final output class\n",
    "model = EEGAutoencoderClassifier(num_classes).to(device)\n",
    "criterion = nn.NLLLoss() # Use NLLLoss function to optimize"
   ]
  },
  {
   "cell_type": "code",
   "execution_count": 50,
   "id": "e23c60cb",
   "metadata": {},
   "outputs": [],
   "source": [
    "optimizer = optim.Adam(model.parameters(), lr=0.0001) # Setting parameters learning rate = 0.0001"
   ]
  },
  {
   "cell_type": "code",
   "execution_count": 51,
   "id": "086a7e33",
   "metadata": {
    "id": "086a7e33",
    "outputId": "17320448-2c7e-48a8-8c2f-c4d6ab88ef4e"
   },
   "outputs": [
    {
     "name": "stdout",
     "output_type": "stream",
     "text": [
      "Epoch 1/20, Loss: 0.07186178863048553\n",
      "Epoch 2/20, Loss: 0.02947368659079075\n",
      "Epoch 3/20, Loss: 0.005113187246024609\n",
      "Epoch 4/20, Loss: 0.002775899600237608\n",
      "Epoch 5/20, Loss: 0.0029923273250460625\n",
      "Epoch 6/20, Loss: 0.003529709530994296\n",
      "Epoch 7/20, Loss: 0.006247045937925577\n",
      "Epoch 8/20, Loss: 0.03191513195633888\n",
      "Epoch 9/20, Loss: 0.04916848614811897\n",
      "Epoch 10/20, Loss: 0.015277862548828125\n",
      "Epoch 11/20, Loss: 0.01034935936331749\n",
      "Epoch 12/20, Loss: 0.0064894356764853\n",
      "Epoch 13/20, Loss: 0.0038196661043912172\n",
      "Epoch 14/20, Loss: 0.0014319031033664942\n",
      "Epoch 15/20, Loss: 0.0010980068473145366\n",
      "Epoch 16/20, Loss: 0.028833908960223198\n",
      "Epoch 17/20, Loss: 0.052052371203899384\n",
      "Epoch 18/20, Loss: 0.03473959118127823\n",
      "Epoch 19/20, Loss: 0.2223990559577942\n",
      "Epoch 20/20, Loss: 0.21791142225265503\n"
     ]
    }
   ],
   "source": [
    "num_epochs = 20 # setting training epochs (Number of training iterations)\n",
    "for epoch in range(num_epochs):\n",
    "    model.train()\n",
    "    for data, labels in train_loader:\n",
    "        optimizer.zero_grad()\n",
    "        outputs = model(data)\n",
    "        loss = criterion(outputs, labels)\n",
    "        loss.backward()\n",
    "        optimizer.step()\n",
    "\n",
    "    print(f'Epoch {epoch + 1}/{num_epochs}, Loss: {loss.item()}')"
   ]
  },
  {
   "cell_type": "code",
   "execution_count": 49,
   "id": "7969f355",
   "metadata": {
    "id": "7969f355",
    "outputId": "8d6684b2-d2d3-452a-859a-5e464aeddefa"
   },
   "outputs": [
    {
     "name": "stdout",
     "output_type": "stream",
     "text": [
      "Test Accuracy: 51.14%\n"
     ]
    }
   ],
   "source": [
    "model.eval() # Evaluate your model\n",
    "correct = 0\n",
    "total = 0\n",
    "inputs = []\n",
    "outcomes = []\n",
    "with torch.no_grad():\n",
    "    for data, labels in test_loader:\n",
    "        outputs = model(data)\n",
    "        _, predicted = torch.max(outputs.data, 1)\n",
    "        total += labels.size(0)\n",
    "        correct += (predicted == labels).sum().item()\n",
    "        outcomes+=predicted\n",
    "        inputs += labels\n",
    "\n",
    "accuracy = correct / total\n",
    "print(f'Test Accuracy: {accuracy * 100:.2f}%')\n",
    "#print(outcomes)"
   ]
  },
  {
   "cell_type": "code",
   "execution_count": 37,
   "id": "31b57f6e",
   "metadata": {},
   "outputs": [],
   "source": [
    "def output_interpret(out):\n",
    "    i = out.item()\n",
    "    if i == 0:\n",
    "        return \"hello\"\n",
    "    if i == 1:\n",
    "        return \"help me\"\n",
    "    if i == 2:\n",
    "        return \"stop\"\n",
    "    if i == 3:\n",
    "        return \"thank you\"\n",
    "    if i == 4:\n",
    "        return \"yes\"\n",
    "                \n",
    "    return \"fail\""
   ]
  },
  {
   "cell_type": "code",
   "execution_count": 38,
   "id": "7755b753",
   "metadata": {},
   "outputs": [
    {
     "name": "stdout",
     "output_type": "stream",
     "text": [
      "[('thank you', 'help me'), ('yes', 'hello'), ('help me', 'hello'), ('stop', 'yes'), ('help me', 'yes'), ('yes', 'stop'), ('thank you', 'thank you'), ('help me', 'thank you'), ('stop', 'stop'), ('stop', 'hello'), ('stop', 'thank you'), ('hello', 'yes'), ('stop', 'yes'), ('help me', 'help me'), ('help me', 'hello'), ('stop', 'yes'), ('help me', 'help me'), ('yes', 'yes'), ('yes', 'yes'), ('help me', 'yes'), ('hello', 'hello'), ('help me', 'thank you'), ('hello', 'help me'), ('stop', 'yes'), ('thank you', 'hello'), ('hello', 'hello'), ('thank you', 'thank you'), ('thank you', 'yes'), ('thank you', 'stop'), ('thank you', 'stop'), ('hello', 'hello'), ('thank you', 'thank you'), ('yes', 'yes'), ('stop', 'stop'), ('yes', 'thank you'), ('hello', 'hello'), ('help me', 'stop'), ('yes', 'yes'), ('yes', 'yes'), ('hello', 'stop'), ('yes', 'stop'), ('help me', 'hello'), ('hello', 'yes'), ('stop', 'stop'), ('yes', 'yes'), ('thank you', 'thank you'), ('hello', 'yes'), ('hello', 'yes'), ('stop', 'stop'), ('thank you', 'thank you'), ('help me', 'hello'), ('hello', 'stop'), ('stop', 'stop'), ('help me', 'hello'), ('help me', 'hello'), ('help me', 'stop'), ('yes', 'yes'), ('thank you', 'help me'), ('stop', 'stop'), ('stop', 'thank you'), ('thank you', 'thank you'), ('thank you', 'stop'), ('yes', 'yes'), ('help me', 'yes'), ('yes', 'yes'), ('yes', 'stop'), ('hello', 'hello'), ('yes', 'thank you'), ('yes', 'thank you'), ('thank you', 'yes'), ('hello', 'stop'), ('yes', 'thank you'), ('thank you', 'yes'), ('hello', 'hello'), ('hello', 'hello'), ('stop', 'help me'), ('stop', 'stop'), ('hello', 'thank you'), ('yes', 'yes'), ('stop', 'help me'), ('yes', 'hello'), ('hello', 'stop'), ('yes', 'stop'), ('help me', 'stop'), ('stop', 'thank you'), ('hello', 'yes'), ('help me', 'hello'), ('help me', 'stop'), ('hello', 'stop'), ('stop', 'stop'), ('stop', 'stop'), ('thank you', 'yes'), ('hello', 'stop'), ('thank you', 'thank you'), ('stop', 'stop'), ('help me', 'thank you'), ('thank you', 'thank you'), ('thank you', 'thank you'), ('help me', 'help me'), ('thank you', 'hello'), ('stop', 'hello'), ('thank you', 'hello'), ('yes', 'hello'), ('hello', 'hello'), ('yes', 'thank you'), ('thank you', 'hello'), ('thank you', 'thank you'), ('hello', 'hello'), ('stop', 'hello'), ('stop', 'help me'), ('hello', 'hello'), ('hello', 'hello'), ('thank you', 'stop'), ('thank you', 'hello'), ('hello', 'help me'), ('hello', 'hello'), ('help me', 'help me'), ('thank you', 'stop'), ('help me', 'help me'), ('stop', 'stop'), ('stop', 'hello'), ('yes', 'yes'), ('stop', 'yes'), ('thank you', 'thank you'), ('help me', 'help me'), ('thank you', 'stop'), ('hello', 'help me'), ('hello', 'hello'), ('thank you', 'yes'), ('yes', 'yes'), ('yes', 'thank you'), ('stop', 'stop'), ('stop', 'stop'), ('thank you', 'thank you'), ('yes', 'thank you'), ('help me', 'thank you'), ('help me', 'help me'), ('hello', 'help me'), ('yes', 'yes'), ('help me', 'help me'), ('stop', 'stop'), ('help me', 'help me'), ('yes', 'yes'), ('yes', 'yes'), ('help me', 'help me'), ('help me', 'stop'), ('help me', 'hello'), ('stop', 'stop'), ('hello', 'hello'), ('yes', 'hello'), ('yes', 'hello'), ('stop', 'help me'), ('hello', 'help me'), ('yes', 'yes'), ('help me', 'help me'), ('hello', 'help me'), ('stop', 'help me'), ('help me', 'hello'), ('stop', 'stop'), ('stop', 'stop'), ('help me', 'stop'), ('yes', 'yes'), ('thank you', 'thank you'), ('help me', 'help me'), ('hello', 'hello'), ('help me', 'stop'), ('stop', 'thank you'), ('hello', 'hello'), ('stop', 'thank you'), ('yes', 'stop'), ('thank you', 'thank you'), ('stop', 'thank you'), ('yes', 'stop'), ('hello', 'hello'), ('yes', 'hello'), ('thank you', 'thank you'), ('yes', 'yes'), ('thank you', 'help me'), ('help me', 'hello'), ('hello', 'hello'), ('help me', 'help me'), ('yes', 'help me'), ('hello', 'hello'), ('hello', 'hello'), ('stop', 'stop'), ('help me', 'help me'), ('hello', 'hello'), ('thank you', 'thank you'), ('stop', 'help me'), ('thank you', 'thank you'), ('thank you', 'stop'), ('thank you', 'thank you'), ('help me', 'stop'), ('thank you', 'thank you'), ('yes', 'stop'), ('hello', 'hello'), ('help me', 'help me'), ('yes', 'yes'), ('thank you', 'help me'), ('stop', 'stop'), ('yes', 'yes'), ('hello', 'hello'), ('yes', 'stop'), ('yes', 'yes'), ('stop', 'hello'), ('yes', 'yes'), ('yes', 'yes'), ('hello', 'thank you'), ('thank you', 'thank you'), ('help me', 'hello'), ('thank you', 'stop'), ('stop', 'stop'), ('yes', 'stop'), ('thank you', 'stop'), ('hello', 'hello'), ('thank you', 'stop'), ('help me', 'help me'), ('help me', 'stop'), ('thank you', 'stop'), ('help me', 'help me'), ('yes', 'yes'), ('yes', 'help me'), ('help me', 'yes'), ('stop', 'hello'), ('yes', 'yes'), ('hello', 'thank you'), ('thank you', 'thank you'), ('thank you', 'thank you'), ('stop', 'stop'), ('hello', 'thank you'), ('help me', 'help me'), ('thank you', 'thank you'), ('help me', 'help me'), ('help me', 'stop'), ('stop', 'stop'), ('hello', 'stop'), ('hello', 'help me'), ('yes', 'yes'), ('thank you', 'thank you'), ('stop', 'thank you'), ('stop', 'stop'), ('stop', 'stop'), ('stop', 'stop'), ('hello', 'help me'), ('hello', 'hello'), ('help me', 'thank you'), ('stop', 'stop'), ('help me', 'yes'), ('hello', 'hello'), ('thank you', 'thank you'), ('yes', 'thank you'), ('yes', 'stop'), ('hello', 'hello'), ('help me', 'stop'), ('hello', 'hello'), ('hello', 'thank you'), ('thank you', 'thank you'), ('help me', 'help me'), ('stop', 'help me'), ('thank you', 'yes'), ('hello', 'help me'), ('thank you', 'thank you'), ('stop', 'stop'), ('help me', 'thank you'), ('stop', 'hello'), ('stop', 'stop'), ('yes', 'help me'), ('stop', 'stop'), ('help me', 'yes'), ('help me', 'stop'), ('hello', 'thank you'), ('help me', 'help me'), ('thank you', 'yes'), ('hello', 'hello'), ('help me', 'stop'), ('yes', 'stop'), ('stop', 'stop'), ('help me', 'yes'), ('help me', 'thank you'), ('thank you', 'stop'), ('thank you', 'stop'), ('hello', 'hello'), ('hello', 'hello'), ('stop', 'thank you'), ('thank you', 'help me'), ('hello', 'thank you'), ('help me', 'thank you'), ('yes', 'yes'), ('stop', 'stop'), ('thank you', 'help me'), ('yes', 'yes'), ('thank you', 'help me'), ('yes', 'yes'), ('yes', 'yes'), ('thank you', 'yes'), ('hello', 'thank you'), ('yes', 'hello'), ('yes', 'hello'), ('stop', 'yes'), ('stop', 'help me'), ('thank you', 'thank you'), ('hello', 'yes'), ('yes', 'yes'), ('help me', 'thank you'), ('stop', 'help me'), ('hello', 'hello'), ('hello', 'help me'), ('hello', 'hello'), ('stop', 'stop'), ('thank you', 'yes'), ('help me', 'yes'), ('yes', 'hello'), ('hello', 'hello'), ('thank you', 'thank you'), ('thank you', 'stop'), ('hello', 'thank you'), ('stop', 'hello'), ('help me', 'help me'), ('stop', 'stop'), ('help me', 'help me'), ('help me', 'help me'), ('thank you', 'thank you'), ('help me', 'help me'), ('stop', 'stop'), ('thank you', 'thank you'), ('stop', 'stop'), ('hello', 'yes'), ('yes', 'stop'), ('thank you', 'thank you'), ('help me', 'thank you'), ('yes', 'thank you'), ('stop', 'stop'), ('hello', 'thank you'), ('yes', 'stop'), ('stop', 'stop'), ('thank you', 'thank you'), ('yes', 'yes'), ('thank you', 'thank you'), ('stop', 'yes'), ('help me', 'hello'), ('yes', 'help me'), ('hello', 'help me'), ('stop', 'stop'), ('yes', 'help me'), ('thank you', 'thank you'), ('help me', 'hello'), ('yes', 'yes'), ('help me', 'hello'), ('yes', 'yes'), ('hello', 'hello'), ('thank you', 'thank you'), ('thank you', 'thank you'), ('stop', 'thank you'), ('hello', 'thank you'), ('hello', 'thank you'), ('stop', 'stop'), ('help me', 'help me'), ('hello', 'help me'), ('thank you', 'thank you'), ('stop', 'stop'), ('thank you', 'thank you'), ('yes', 'stop'), ('help me', 'help me'), ('help me', 'hello'), ('thank you', 'stop'), ('help me', 'help me'), ('thank you', 'thank you'), ('help me', 'hello'), ('stop', 'stop'), ('stop', 'stop'), ('yes', 'thank you'), ('yes', 'yes'), ('help me', 'help me'), ('thank you', 'thank you'), ('hello', 'thank you'), ('yes', 'yes'), ('hello', 'hello'), ('hello', 'hello'), ('help me', 'help me'), ('yes', 'hello'), ('stop', 'stop'), ('help me', 'help me'), ('yes', 'yes'), ('hello', 'thank you'), ('thank you', 'stop'), ('thank you', 'thank you'), ('hello', 'hello'), ('help me', 'yes'), ('help me', 'help me'), ('stop', 'stop'), ('yes', 'yes'), ('stop', 'stop'), ('hello', 'stop'), ('hello', 'hello'), ('yes', 'stop'), ('yes', 'help me'), ('stop', 'help me'), ('stop', 'stop'), ('thank you', 'thank you'), ('yes', 'yes'), ('hello', 'thank you'), ('hello', 'hello'), ('thank you', 'help me'), ('stop', 'stop'), ('stop', 'hello'), ('help me', 'hello'), ('thank you', 'yes'), ('stop', 'yes'), ('thank you', 'thank you'), ('hello', 'thank you'), ('yes', 'yes'), ('help me', 'thank you'), ('thank you', 'thank you'), ('thank you', 'stop'), ('yes', 'stop'), ('help me', 'hello'), ('thank you', 'hello'), ('yes', 'stop'), ('stop', 'stop'), ('thank you', 'yes'), ('yes', 'thank you'), ('yes', 'yes'), ('help me', 'hello'), ('help me', 'help me'), ('stop', 'help me'), ('thank you', 'thank you'), ('hello', 'stop'), ('hello', 'hello'), ('help me', 'help me'), ('stop', 'hello'), ('yes', 'help me'), ('yes', 'thank you'), ('hello', 'thank you'), ('stop', 'stop'), ('thank you', 'thank you'), ('hello', 'hello'), ('help me', 'hello'), ('hello', 'hello'), ('yes', 'yes'), ('yes', 'help me'), ('help me', 'yes'), ('stop', 'hello'), ('thank you', 'thank you'), ('stop', 'thank you'), ('hello', 'hello'), ('help me', 'help me'), ('stop', 'stop'), ('hello', 'help me'), ('help me', 'help me'), ('yes', 'yes'), ('help me', 'hello'), ('help me', 'help me'), ('thank you', 'help me'), ('hello', 'hello'), ('thank you', 'thank you'), ('hello', 'hello'), ('stop', 'hello'), ('thank you', 'thank you'), ('stop', 'stop'), ('stop', 'thank you'), ('yes', 'thank you'), ('help me', 'help me'), ('help me', 'help me'), ('thank you', 'hello'), ('thank you', 'thank you'), ('yes', 'thank you'), ('stop', 'yes'), ('hello', 'hello'), ('thank you', 'yes'), ('hello', 'thank you'), ('hello', 'thank you'), ('yes', 'help me'), ('yes', 'yes'), ('thank you', 'thank you'), ('yes', 'stop'), ('hello', 'thank you'), ('hello', 'stop'), ('yes', 'yes'), ('stop', 'stop'), ('yes', 'yes'), ('yes', 'yes'), ('yes', 'help me'), ('thank you', 'thank you'), ('help me', 'help me'), ('help me', 'hello'), ('hello', 'thank you'), ('stop', 'stop'), ('stop', 'thank you'), ('hello', 'thank you'), ('hello', 'hello'), ('help me', 'thank you'), ('yes', 'hello'), ('thank you', 'thank you'), ('stop', 'stop'), ('stop', 'yes'), ('help me', 'hello'), ('help me', 'help me'), ('stop', 'yes'), ('thank you', 'yes'), ('help me', 'stop'), ('help me', 'help me'), ('help me', 'yes'), ('help me', 'help me'), ('thank you', 'thank you'), ('thank you', 'hello'), ('thank you', 'hello'), ('hello', 'hello'), ('stop', 'stop'), ('help me', 'hello'), ('stop', 'stop'), ('stop', 'stop'), ('hello', 'hello'), ('hello', 'hello'), ('yes', 'thank you'), ('stop', 'stop'), ('thank you', 'stop'), ('yes', 'stop'), ('yes', 'hello'), ('hello', 'hello'), ('stop', 'yes'), ('yes', 'stop'), ('stop', 'stop'), ('stop', 'yes'), ('help me', 'stop'), ('stop', 'stop'), ('yes', 'yes'), ('yes', 'help me'), ('yes', 'yes'), ('help me', 'stop'), ('help me', 'help me'), ('thank you', 'hello'), ('hello', 'yes'), ('hello', 'yes'), ('hello', 'hello'), ('yes', 'yes'), ('help me', 'yes'), ('yes', 'yes'), ('yes', 'hello'), ('stop', 'stop'), ('stop', 'stop'), ('thank you', 'thank you'), ('thank you', 'thank you'), ('thank you', 'hello'), ('hello', 'thank you'), ('hello', 'hello'), ('hello', 'hello'), ('thank you', 'thank you'), ('thank you', 'yes'), ('help me', 'thank you'), ('help me', 'hello'), ('hello', 'hello'), ('thank you', 'thank you'), ('help me', 'help me'), ('help me', 'help me'), ('help me', 'help me'), ('help me', 'help me'), ('thank you', 'yes'), ('thank you', 'yes'), ('yes', 'yes'), ('yes', 'help me'), ('yes', 'help me'), ('thank you', 'thank you'), ('thank you', 'stop'), ('yes', 'stop'), ('hello', 'stop'), ('hello', 'stop'), ('stop', 'stop'), ('help me', 'help me'), ('stop', 'stop'), ('stop', 'yes'), ('thank you', 'yes'), ('thank you', 'thank you'), ('yes', 'yes'), ('help me', 'help me'), ('help me', 'thank you'), ('hello', 'yes'), ('thank you', 'hello'), ('stop', 'stop'), ('yes', 'hello'), ('yes', 'stop'), ('thank you', 'thank you'), ('thank you', 'yes'), ('yes', 'yes'), ('hello', 'hello'), ('hello', 'hello'), ('hello', 'stop'), ('stop', 'stop'), ('hello', 'thank you'), ('help me', 'thank you'), ('stop', 'thank you'), ('stop', 'stop'), ('stop', 'stop'), ('help me', 'hello'), ('help me', 'hello'), ('hello', 'hello'), ('hello', 'hello'), ('yes', 'yes'), ('yes', 'yes'), ('stop', 'stop'), ('stop', 'hello'), ('hello', 'hello'), ('stop', 'stop'), ('thank you', 'thank you'), ('help me', 'hello'), ('help me', 'hello'), ('stop', 'hello'), ('stop', 'thank you'), ('thank you', 'thank you'), ('thank you', 'thank you'), ('thank you', 'thank you'), ('help me', 'help me'), ('help me', 'help me'), ('yes', 'yes'), ('stop', 'stop'), ('thank you', 'thank you'), ('yes', 'yes'), ('hello', 'hello'), ('yes', 'yes'), ('stop', 'hello'), ('hello', 'yes'), ('hello', 'yes'), ('stop', 'hello'), ('help me', 'help me'), ('hello', 'hello'), ('yes', 'stop'), ('help me', 'hello'), ('thank you', 'stop'), ('hello', 'help me'), ('thank you', 'hello'), ('help me', 'help me'), ('hello', 'hello'), ('stop', 'stop'), ('stop', 'stop'), ('thank you', 'help me'), ('yes', 'yes'), ('thank you', 'stop'), ('hello', 'yes'), ('yes', 'hello'), ('hello', 'hello'), ('thank you', 'thank you'), ('stop', 'stop'), ('yes', 'yes'), ('help me', 'thank you'), ('yes', 'help me'), ('yes', 'hello'), ('help me', 'help me'), ('yes', 'thank you'), ('stop', 'stop'), ('help me', 'help me'), ('hello', 'thank you'), ('thank you', 'thank you'), ('hello', 'help me'), ('thank you', 'thank you'), ('stop', 'stop'), ('thank you', 'hello'), ('yes', 'yes'), ('yes', 'hello'), ('yes', 'yes'), ('hello', 'thank you'), ('yes', 'thank you'), ('help me', 'yes'), ('hello', 'hello'), ('stop', 'stop'), ('help me', 'stop'), ('thank you', 'thank you'), ('help me', 'yes'), ('hello', 'thank you'), ('yes', 'thank you'), ('stop', 'stop'), ('thank you', 'thank you'), ('help me', 'help me'), ('stop', 'stop'), ('stop', 'stop'), ('hello', 'hello'), ('yes', 'yes'), ('thank you', 'hello'), ('stop', 'yes'), ('yes', 'yes'), ('stop', 'thank you'), ('hello', 'yes'), ('thank you', 'thank you'), ('thank you', 'help me'), ('help me', 'help me'), ('hello', 'hello'), ('stop', 'stop'), ('thank you', 'thank you'), ('help me', 'stop'), ('hello', 'help me'), ('help me', 'help me'), ('yes', 'stop'), ('hello', 'hello'), ('stop', 'stop'), ('help me', 'help me'), ('yes', 'yes'), ('hello', 'hello'), ('help me', 'thank you'), ('stop', 'stop'), ('thank you', 'thank you'), ('yes', 'stop'), ('help me', 'help me'), ('stop', 'stop'), ('yes', 'yes'), ('thank you', 'stop'), ('thank you', 'thank you')]\n"
     ]
    }
   ],
   "source": [
    "def data_and_predictions():\n",
    "    pred = list(map(output_interpret,outcomes))\n",
    "    data = list(map(output_interpret,inputs))\n",
    "    result = []\n",
    "    \n",
    "    for i in range(0,len(pred)):\n",
    "        result = result + [(data[i] , pred[i])]\n",
    "    \n",
    "    return result\n",
    "\n",
    "print(data_and_predictions())"
   ]
  },
  {
   "cell_type": "code",
   "execution_count": 2,
   "id": "1d53c45c",
   "metadata": {},
   "outputs": [
    {
     "ename": "NameError",
     "evalue": "name 'data_and_predictions' is not defined",
     "output_type": "error",
     "traceback": [
      "\u001b[0;31m---------------------------------------------------------------------------\u001b[0m",
      "\u001b[0;31mNameError\u001b[0m                                 Traceback (most recent call last)",
      "Cell \u001b[0;32mIn[2], line 1\u001b[0m\n\u001b[0;32m----> 1\u001b[0m (pd\u001b[38;5;241m.\u001b[39mDataFrame\u001b[38;5;241m.\u001b[39mfrom_dict(\u001b[43mdata_and_predictions\u001b[49m(), orient\u001b[38;5;241m=\u001b[39m\u001b[38;5;124m'\u001b[39m\u001b[38;5;124mindex\u001b[39m\u001b[38;5;124m'\u001b[39m))\u001b[38;5;241m.\u001b[39mto_csv(\u001b[38;5;124m'\u001b[39m\u001b[38;5;124mmodel_outcomes.csv\u001b[39m\u001b[38;5;124m'\u001b[39m, header\u001b[38;5;241m=\u001b[39m\u001b[38;5;28;01mFalse\u001b[39;00m)\n",
      "\u001b[0;31mNameError\u001b[0m: name 'data_and_predictions' is not defined"
     ]
    }
   ],
   "source": [
    "(pd.DataFrame.from_dict(data_and_predictions(), orient='index')).to_csv('model_outcomes.csv', header=False)"
   ]
  }
 ],
 "metadata": {
  "colab": {
   "provenance": []
  },
  "kernelspec": {
   "display_name": "Python 3 (ipykernel)",
   "language": "python",
   "name": "python3"
  },
  "language_info": {
   "codemirror_mode": {
    "name": "ipython",
    "version": 3
   },
   "file_extension": ".py",
   "mimetype": "text/x-python",
   "name": "python",
   "nbconvert_exporter": "python",
   "pygments_lexer": "ipython3",
   "version": "3.10.13"
  }
 },
 "nbformat": 4,
 "nbformat_minor": 5
}
